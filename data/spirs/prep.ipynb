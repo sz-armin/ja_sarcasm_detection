{
 "cells": [
  {
   "cell_type": "code",
   "execution_count": 1,
   "metadata": {},
   "outputs": [],
   "source": [
    "import pandas as pd\n",
    "import random"
   ]
  },
  {
   "cell_type": "code",
   "execution_count": 2,
   "metadata": {},
   "outputs": [],
   "source": [
    "sarc_data = pd.read_csv(\"raw/SPIRS-sarcastic.csv\")\n",
    "sarc_data = sarc_data['sar_text'].dropna().to_frame()\n",
    "sarc_data = sarc_data.rename(columns={'sar_text':'text'})\n",
    "sarc_data[\"sarcastic\"] = 1\n",
    "\n",
    "nsarc_data = pd.read_csv(\"raw/SPIRS-non-sarcastic.csv\")\n",
    "nsarc_data = nsarc_data['sar_text'].dropna().to_frame()\n",
    "nsarc_data = nsarc_data.rename(columns={'sar_text':'text'})\n",
    "nsarc_data[\"sarcastic\"] = 0"
   ]
  },
  {
   "cell_type": "code",
   "execution_count": 3,
   "metadata": {},
   "outputs": [
    {
     "name": "stdout",
     "output_type": "stream",
     "text": [
      "9766\n",
      "10274\n"
     ]
    }
   ],
   "source": [
    "print(len(sarc_data))\n",
    "print(len(nsarc_data))"
   ]
  },
  {
   "cell_type": "code",
   "execution_count": 4,
   "metadata": {},
   "outputs": [],
   "source": [
    "all_data = pd.concat([sarc_data, nsarc_data])\n",
    "all_data = all_data.sample(frac=1).reset_index(drop=True)"
   ]
  },
  {
   "cell_type": "code",
   "execution_count": 5,
   "metadata": {},
   "outputs": [],
   "source": [
    "all_data.to_csv(\"preprocessed/all.csv\", index=False)"
   ]
  }
 ],
 "metadata": {
  "kernelspec": {
   "display_name": "pytorch",
   "language": "python",
   "name": "python3"
  },
  "language_info": {
   "codemirror_mode": {
    "name": "ipython",
    "version": 3
   },
   "file_extension": ".py",
   "mimetype": "text/x-python",
   "name": "python",
   "nbconvert_exporter": "python",
   "pygments_lexer": "ipython3",
   "version": "3.10.8"
  },
  "orig_nbformat": 4,
  "vscode": {
   "interpreter": {
    "hash": "cdd441ab56e000c5cdd95988c28580fb8a4796548cae7dec334c61097e187fe9"
   }
  }
 },
 "nbformat": 4,
 "nbformat_minor": 2
}
